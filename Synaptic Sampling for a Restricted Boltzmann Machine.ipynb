{
  "nbformat": 4,
  "nbformat_minor": 0,
  "metadata": {
    "colab": {
      "name": "Projet Neurosciences Synaptic Sampling.ipynb",
      "provenance": [],
      "collapsed_sections": [
        "2CEEPLvvQVBZ",
        "8OwzD6xRQfcP"
      ]
    },
    "kernelspec": {
      "name": "python3",
      "display_name": "Python 3"
    },
    "accelerator": "GPU",
    "widgets": {
      "application/vnd.jupyter.widget-state+json": {
        "b518ac027222427aa69fde1c116052be": {
          "model_module": "@jupyter-widgets/controls",
          "model_name": "HBoxModel",
          "state": {
            "_view_name": "HBoxView",
            "_dom_classes": [],
            "_model_name": "HBoxModel",
            "_view_module": "@jupyter-widgets/controls",
            "_model_module_version": "1.5.0",
            "_view_count": null,
            "_view_module_version": "1.5.0",
            "box_style": "",
            "layout": "IPY_MODEL_f6d84cb681ad40208a0829b6570466ea",
            "_model_module": "@jupyter-widgets/controls",
            "children": [
              "IPY_MODEL_86681eacf2674a6ca1f44d232730bb84",
              "IPY_MODEL_5a7b16e7981c40bf9dbaa5f6f70faf55"
            ]
          }
        },
        "f6d84cb681ad40208a0829b6570466ea": {
          "model_module": "@jupyter-widgets/base",
          "model_name": "LayoutModel",
          "state": {
            "_view_name": "LayoutView",
            "grid_template_rows": null,
            "right": null,
            "justify_content": null,
            "_view_module": "@jupyter-widgets/base",
            "overflow": null,
            "_model_module_version": "1.2.0",
            "_view_count": null,
            "flex_flow": null,
            "width": null,
            "min_width": null,
            "border": null,
            "align_items": null,
            "bottom": null,
            "_model_module": "@jupyter-widgets/base",
            "top": null,
            "grid_column": null,
            "overflow_y": null,
            "overflow_x": null,
            "grid_auto_flow": null,
            "grid_area": null,
            "grid_template_columns": null,
            "flex": null,
            "_model_name": "LayoutModel",
            "justify_items": null,
            "grid_row": null,
            "max_height": null,
            "align_content": null,
            "visibility": null,
            "align_self": null,
            "height": null,
            "min_height": null,
            "padding": null,
            "grid_auto_rows": null,
            "grid_gap": null,
            "max_width": null,
            "order": null,
            "_view_module_version": "1.2.0",
            "grid_template_areas": null,
            "object_position": null,
            "object_fit": null,
            "grid_auto_columns": null,
            "margin": null,
            "display": null,
            "left": null
          }
        },
        "86681eacf2674a6ca1f44d232730bb84": {
          "model_module": "@jupyter-widgets/controls",
          "model_name": "FloatProgressModel",
          "state": {
            "_view_name": "ProgressView",
            "style": "IPY_MODEL_d5b9ec2f1c184747ba0073b2755130e4",
            "_dom_classes": [],
            "description": "100%",
            "_model_name": "FloatProgressModel",
            "bar_style": "success",
            "max": 2696,
            "_view_module": "@jupyter-widgets/controls",
            "_model_module_version": "1.5.0",
            "value": 2696,
            "_view_count": null,
            "_view_module_version": "1.5.0",
            "orientation": "horizontal",
            "min": 0,
            "description_tooltip": null,
            "_model_module": "@jupyter-widgets/controls",
            "layout": "IPY_MODEL_c2261ae8d7b24ca2ab9f3702852b9ac5"
          }
        },
        "5a7b16e7981c40bf9dbaa5f6f70faf55": {
          "model_module": "@jupyter-widgets/controls",
          "model_name": "HTMLModel",
          "state": {
            "_view_name": "HTMLView",
            "style": "IPY_MODEL_2e075abee474408ab55ea93c93cb1253",
            "_dom_classes": [],
            "description": "",
            "_model_name": "HTMLModel",
            "placeholder": "​",
            "_view_module": "@jupyter-widgets/controls",
            "_model_module_version": "1.5.0",
            "value": " 2696/2696 [07:19&lt;00:00,  6.14it/s]",
            "_view_count": null,
            "_view_module_version": "1.5.0",
            "description_tooltip": null,
            "_model_module": "@jupyter-widgets/controls",
            "layout": "IPY_MODEL_24407ba8317d4d5daebdf80732476575"
          }
        },
        "d5b9ec2f1c184747ba0073b2755130e4": {
          "model_module": "@jupyter-widgets/controls",
          "model_name": "ProgressStyleModel",
          "state": {
            "_view_name": "StyleView",
            "_model_name": "ProgressStyleModel",
            "description_width": "initial",
            "_view_module": "@jupyter-widgets/base",
            "_model_module_version": "1.5.0",
            "_view_count": null,
            "_view_module_version": "1.2.0",
            "bar_color": null,
            "_model_module": "@jupyter-widgets/controls"
          }
        },
        "c2261ae8d7b24ca2ab9f3702852b9ac5": {
          "model_module": "@jupyter-widgets/base",
          "model_name": "LayoutModel",
          "state": {
            "_view_name": "LayoutView",
            "grid_template_rows": null,
            "right": null,
            "justify_content": null,
            "_view_module": "@jupyter-widgets/base",
            "overflow": null,
            "_model_module_version": "1.2.0",
            "_view_count": null,
            "flex_flow": null,
            "width": null,
            "min_width": null,
            "border": null,
            "align_items": null,
            "bottom": null,
            "_model_module": "@jupyter-widgets/base",
            "top": null,
            "grid_column": null,
            "overflow_y": null,
            "overflow_x": null,
            "grid_auto_flow": null,
            "grid_area": null,
            "grid_template_columns": null,
            "flex": null,
            "_model_name": "LayoutModel",
            "justify_items": null,
            "grid_row": null,
            "max_height": null,
            "align_content": null,
            "visibility": null,
            "align_self": null,
            "height": null,
            "min_height": null,
            "padding": null,
            "grid_auto_rows": null,
            "grid_gap": null,
            "max_width": null,
            "order": null,
            "_view_module_version": "1.2.0",
            "grid_template_areas": null,
            "object_position": null,
            "object_fit": null,
            "grid_auto_columns": null,
            "margin": null,
            "display": null,
            "left": null
          }
        },
        "2e075abee474408ab55ea93c93cb1253": {
          "model_module": "@jupyter-widgets/controls",
          "model_name": "DescriptionStyleModel",
          "state": {
            "_view_name": "StyleView",
            "_model_name": "DescriptionStyleModel",
            "description_width": "",
            "_view_module": "@jupyter-widgets/base",
            "_model_module_version": "1.5.0",
            "_view_count": null,
            "_view_module_version": "1.2.0",
            "_model_module": "@jupyter-widgets/controls"
          }
        },
        "24407ba8317d4d5daebdf80732476575": {
          "model_module": "@jupyter-widgets/base",
          "model_name": "LayoutModel",
          "state": {
            "_view_name": "LayoutView",
            "grid_template_rows": null,
            "right": null,
            "justify_content": null,
            "_view_module": "@jupyter-widgets/base",
            "overflow": null,
            "_model_module_version": "1.2.0",
            "_view_count": null,
            "flex_flow": null,
            "width": null,
            "min_width": null,
            "border": null,
            "align_items": null,
            "bottom": null,
            "_model_module": "@jupyter-widgets/base",
            "top": null,
            "grid_column": null,
            "overflow_y": null,
            "overflow_x": null,
            "grid_auto_flow": null,
            "grid_area": null,
            "grid_template_columns": null,
            "flex": null,
            "_model_name": "LayoutModel",
            "justify_items": null,
            "grid_row": null,
            "max_height": null,
            "align_content": null,
            "visibility": null,
            "align_self": null,
            "height": null,
            "min_height": null,
            "padding": null,
            "grid_auto_rows": null,
            "grid_gap": null,
            "max_width": null,
            "order": null,
            "_view_module_version": "1.2.0",
            "grid_template_areas": null,
            "object_position": null,
            "object_fit": null,
            "grid_auto_columns": null,
            "margin": null,
            "display": null,
            "left": null
          }
        }
      }
    }
  },
  "cells": [
    {
      "cell_type": "markdown",
      "metadata": {
        "id": "4fEjNiyPQPJ5",
        "colab_type": "text"
      },
      "source": [
        "## Import and data preparation"
      ]
    },
    {
      "cell_type": "code",
      "metadata": {
        "id": "z95e3aUUgarf",
        "colab_type": "code",
        "outputId": "d4567398-af3c-4c9f-90b7-bdb6df36d38d",
        "colab": {
          "base_uri": "https://localhost:8080/",
          "height": 283
        }
      },
      "source": [
        "import matplotlib.pyplot as plt\n",
        "import numpy as np\n",
        "import random\n",
        "import tqdm\n",
        "import scipy.io.wavfile as wav\n",
        "!pip install git+https://github.com/bootphon/spectral.git\n",
        "import spectral\n",
        "import os\n",
        "import tensorflow as tf\n",
        "(x_train, y_train), (x_test, y_test) = tf.keras.datasets.mnist.load_data()"
      ],
      "execution_count": 0,
      "outputs": [
        {
          "output_type": "stream",
          "text": [
            "Collecting git+https://github.com/bootphon/spectral.git\n",
            "  Cloning https://github.com/bootphon/spectral.git to /tmp/pip-req-build-8l81477m\n",
            "  Running command git clone -q https://github.com/bootphon/spectral.git /tmp/pip-req-build-8l81477m\n",
            "Requirement already satisfied: numpy>=1.6.2 in /usr/local/lib/python3.6/dist-packages (from spectral==0.1.7) (1.18.4)\n",
            "Requirement already satisfied: scipy in /usr/local/lib/python3.6/dist-packages (from spectral==0.1.7) (1.4.1)\n",
            "Building wheels for collected packages: spectral\n",
            "  Building wheel for spectral (setup.py) ... \u001b[?25l\u001b[?25hdone\n",
            "  Created wheel for spectral: filename=spectral-0.1.7-cp36-cp36m-linux_x86_64.whl size=62803 sha256=818adbdfd8cb7771f5fcb64e58d2d0c77843e4a6f0bb395557e97cd52b1080b9\n",
            "  Stored in directory: /tmp/pip-ephem-wheel-cache-ax7mjxz1/wheels/73/fd/30/6edc3e8687a96ba559a35ad0de5fa98922066731d716e4c22d\n",
            "Successfully built spectral\n",
            "Installing collected packages: spectral\n",
            "Successfully installed spectral-0.1.7\n",
            "Downloading data from https://storage.googleapis.com/tensorflow/tf-keras-datasets/mnist.npz\n",
            "11493376/11490434 [==============================] - 0s 0us/step\n"
          ],
          "name": "stdout"
        }
      ]
    },
    {
      "cell_type": "markdown",
      "metadata": {
        "id": "2CEEPLvvQVBZ",
        "colab_type": "text"
      },
      "source": [
        "# Audio data (optional, bad results)"
      ]
    },
    {
      "cell_type": "code",
      "metadata": {
        "id": "qATYquMgWccF",
        "colab_type": "code",
        "outputId": "0d0ead18-9641-4474-de81-4e0718be2e51",
        "colab": {
          "base_uri": "https://localhost:8080/",
          "height": 140
        }
      },
      "source": [
        "!git clone https://github.com/Jakobovski/free-spoken-digit-dataset.git"
      ],
      "execution_count": 0,
      "outputs": [
        {
          "output_type": "stream",
          "text": [
            "Cloning into 'free-spoken-digit-dataset'...\n",
            "remote: Enumerating objects: 9, done.\u001b[K\n",
            "remote: Counting objects:  11% (1/9)\u001b[K\rremote: Counting objects:  22% (2/9)\u001b[K\rremote: Counting objects:  33% (3/9)\u001b[K\rremote: Counting objects:  44% (4/9)\u001b[K\rremote: Counting objects:  55% (5/9)\u001b[K\rremote: Counting objects:  66% (6/9)\u001b[K\rremote: Counting objects:  77% (7/9)\u001b[K\rremote: Counting objects:  88% (8/9)\u001b[K\rremote: Counting objects: 100% (9/9)\u001b[K\rremote: Counting objects: 100% (9/9), done.\u001b[K\n",
            "remote: Compressing objects: 100% (9/9), done.\u001b[K\n",
            "remote: Total 3166 (delta 3), reused 5 (delta 0), pack-reused 3157\u001b[K\n",
            "Receiving objects: 100% (3166/3166), 23.93 MiB | 32.80 MiB/s, done.\n",
            "Resolving deltas: 100% (72/72), done.\n"
          ],
          "name": "stdout"
        }
      ]
    },
    {
      "cell_type": "code",
      "metadata": {
        "id": "5PaX0TOu_mbu",
        "colab_type": "code",
        "outputId": "59a93dfb-9a91-498b-b0cb-6db880def7a1",
        "colab": {
          "base_uri": "https://localhost:8080/",
          "height": 162
        }
      },
      "source": [
        "wavs = []\n",
        "wavs_labels = []\n",
        "wav_dir = 'free-spoken-digit-dataset/recordings'\n",
        "\n",
        "for wavfile in os.listdir(wav_dir):\n",
        "    fs, waveform = wav.read(wav_dir+'/'+wavfile)\n",
        "    wavs.append(waveform)\n",
        "    wavs_labels.append(wavfile[0])\n",
        "\n",
        "def transform_wavs(wavs_list, feature_func):\n",
        "    features = []\n",
        "    for wav in wavs_list:\n",
        "        features.append(feature_func.transform(wav[:1148]).flatten())\n",
        "    return features\n",
        "\n",
        "def pad(features, max_len=77*22):\n",
        "    padded_features =[]\n",
        "    for feat_file in features:\n",
        "        max_len = max(max_len, feat_file.shape[0])\n",
        "    for feat_file in features:\n",
        "        pad_size = max_len - feat_file.shape[0]\n",
        "        left_pad = pad_size // 2\n",
        "        right_pad = pad_size - left_pad\n",
        "        padded_features.append(np.pad(feat_file, ((left_pad, right_pad),), 'constant', constant_values=(0, 0)))\n",
        "    return padded_features\n",
        "\n",
        "melfbanks = spectral.Spectral(nfilt=77,\n",
        "                    ncep=0,\n",
        "                    do_dct=False,\n",
        "                    lowerf=80,\n",
        "                    upperf=8000,\n",
        "                    alpha=0.98,\n",
        "                    fs=16000,\n",
        "                    frate=100,\n",
        "                    wlen=0.01,\n",
        "                    nfft=512,\n",
        "                    compression='log',\n",
        "                    do_deltas=False,\n",
        "                    do_deltasdeltas=False)\n",
        "\n",
        "train_feats = np.asarray(pad(transform_wavs(wavs, melfbanks)))\n",
        "\n",
        "train_feats_1 = []\n",
        "for i in range(len(train_feats)):\n",
        "    if wavs_labels[i] == '1':\n",
        "        new_feats = train_feats[i]\n",
        "        new_feats = (new_feats - np.min(new_feats))/(np.max(new_feats) - np.min(new_feats))\n",
        "        train_feats_1.append(new_feats)\n",
        "\n",
        "train_feats_1 = np.array(train_feats_1)\n",
        "\n",
        "plt.imshow(train_feats_1[5].reshape((22,77)))"
      ],
      "execution_count": 0,
      "outputs": [
        {
          "output_type": "execute_result",
          "data": {
            "text/plain": [
              "<matplotlib.image.AxesImage at 0x7fde2e465ef0>"
            ]
          },
          "metadata": {
            "tags": []
          },
          "execution_count": 435
        },
        {
          "output_type": "display_data",
          "data": {
            "image/png": "[encoded data removed]",
            "text/plain": [
              "<Figure size 432x288 with 1 Axes>"
            ]
          },
          "metadata": {
            "tags": []
          }
        }
      ]
    },
    {
      "cell_type": "code",
      "metadata": {
        "id": "XkpZpL3cAk8N",
        "colab_type": "code",
        "outputId": "b707242b-c3cb-4bee-a094-d5dd87b99a7c",
        "colab": {
          "base_uri": "https://localhost:8080/",
          "height": 102
        }
      },
      "source": [
        "train_feats_1_cropped = np.array([train_feats_1[i].reshape((22,77))[7:15,1:].flatten() for i in range(train_feats_1.shape[0])])\n",
        "\n",
        "plt.imshow(train_feats_1_cropped[0].reshape((8,76)))"
      ],
      "execution_count": 0,
      "outputs": [
        {
          "output_type": "execute_result",
          "data": {
            "text/plain": [
              "<matplotlib.image.AxesImage at 0x7fde40f19908>"
            ]
          },
          "metadata": {
            "tags": []
          },
          "execution_count": 459
        },
        {
          "output_type": "display_data",
          "data": {
            "image/png": "[encoded data removed]",
            "text/plain": [
              "<Figure size 432x288 with 1 Axes>"
            ]
          },
          "metadata": {
            "tags": []
          }
        }
      ]
    },
    {
      "cell_type": "code",
      "metadata": {
        "id": "XLxHkihYBjOt",
        "colab_type": "code",
        "colab": {}
      },
      "source": [
        "n = train_feats_1_cropped.shape[0]\n",
        "split_n = int(0.95*n) \n",
        "test_feats_1_cropped = train_feats_1_cropped[split_n:]\n",
        "train_feats_1_cropped = train_feats_1_cropped[:split_n]"
      ],
      "execution_count": 0,
      "outputs": []
    },
    {
      "cell_type": "markdown",
      "metadata": {
        "id": "E5g3NN0DQYdi",
        "colab_type": "text"
      },
      "source": [
        "# Visual data (MNIST)"
      ]
    },
    {
      "cell_type": "code",
      "metadata": {
        "id": "t6VFhOpLRIR3",
        "colab_type": "code",
        "colab": {}
      },
      "source": [
        "x_train_i, x_test_i = [[] for i in range(10)], [[] for i in range(10)]\n",
        "\n",
        "for i in range(x_train.shape[0]):\n",
        "    if y_train[i] == 1:\n",
        "        x_train_i[int(y_train[i])].append(x_train[i]/255)\n",
        "\n",
        "for k in range(10):\n",
        "    x_train_i[k] = np.array(x_train_i[k])\n",
        "    n = x_train_i[k].shape[0]\n",
        "    split_n = int(0.8*n) \n",
        "    x_test_i[k] = x_train_i[k][split_n:]\n",
        "    x_train_i[k] = x_train_i[k][:split_n]"
      ],
      "execution_count": 0,
      "outputs": []
    },
    {
      "cell_type": "markdown",
      "metadata": {
        "id": "tvxlpINNQcrY",
        "colab_type": "text"
      },
      "source": [
        "# Restricted Boltzmann Machine with Synaptic Sampling"
      ]
    },
    {
      "cell_type": "code",
      "metadata": {
        "id": "Xxz1eKFzgQL0",
        "colab_type": "code",
        "colab": {}
      },
      "source": [
        "def sigmoid(u):\n",
        "    return(1/(1+np.exp(-u)))\n",
        "\n",
        "\n",
        "## Output of a layer\n",
        "\n",
        "\n",
        "def output_v(w_vh, b_v, y_h):\n",
        "    ''' Output of a visual layer from the hidden layer '''\n",
        "    output = [sigmoid(sum([w_vh[i][j]*y_h[j] for j in range(n_h)])+b_v[i]) for i in range(n_v)]\n",
        "    output_bolt = []\n",
        "    for o in output:\n",
        "        r = random.random()\n",
        "        if r < o:\n",
        "            res = 1\n",
        "        else:\n",
        "            res = 0\n",
        "        output_bolt.append(res)\n",
        "    return(np.array(output_bolt))\n",
        "\n",
        "def output_h(w_vh, b_h, y_v):\n",
        "    ''' Output of a hidden layer from the visual layer '''\n",
        "    output = [sigmoid(sum([w_vh[j][i]*y_v[j] for j in range(n_v)])+b_h[i]) for i in range(n_h)]\n",
        "    output_bolt = []\n",
        "    for o in output:\n",
        "        r = random.random()\n",
        "        if r < o:\n",
        "            res = 1\n",
        "        else:\n",
        "            res = 0\n",
        "        output_bolt.append(res)\n",
        "    return(np.array(output_bolt)) \n",
        "\n",
        "def output_h_hh(w_hh, b_hh, y_h):\n",
        "    ''' Output of a double hidden layer from the hidden layer '''\n",
        "    output = [sigmoid(sum([w_hh[j][i]*y_h[j] for j in range(n_h)])+b_hh[i]) for i in range(n_hh)]\n",
        "    output_bolt = []\n",
        "    for o in output:\n",
        "        r = random.random()\n",
        "        if r < o:\n",
        "            res = 1\n",
        "        else:\n",
        "            res = 0\n",
        "        output_bolt.append(res)\n",
        "    return(np.array(output_bolt)) \n",
        "\n",
        "def output_hh_h(w_hh, b_h, y_hh):\n",
        "    ''' Output of a hidden layer from the double hidden layer '''\n",
        "    output = [sigmoid(sum([w_hh[i][j]*y_hh[j] for j in range(n_hh)])+b_h[i]) for i in range(n_h)]\n",
        "    output_bolt = []\n",
        "    for o in output:\n",
        "        r = random.random()\n",
        "        if r < o:\n",
        "            res = 1\n",
        "        else:\n",
        "            res = 0\n",
        "        output_bolt.append(res)\n",
        "    return(np.array(output_bolt)) \n",
        "\n",
        "eta = 1e-4\n",
        "N = 100\n",
        "\n",
        "\n",
        "## Bayesian priors\n",
        "\n",
        "\n",
        "def log_s_uniform(x):\n",
        "    ''' Uniform prior '''\n",
        "    return(0)\n",
        "    \n",
        "s1, s2, mu1, mu2 = 0.1, 0.1, 1.0, 0.0\n",
        "def log_s_bi(x):\n",
        "    ''' Bi gaussian prior '''\n",
        "    exp1 = (1/s1)*np.exp(-(x-mu1)**2/(2*s1**2))\n",
        "    exp2 = (1/s2)*np.exp(-(x-mu2)**2/(2*s2**2))\n",
        "    norma1 = (x-mu1)/s1\n",
        "    norma2 = (x-mu2)/s2\n",
        "    result = (norma1*exp1 + norma2*exp2)/max(0.00001,exp1 + exp2)\n",
        "    return(result)\n",
        "\n",
        "s1, s2, s3, mu1, mu2, mu3 = 0.07, 0.07, 0.07, 1.0, 0.0, 0.5\n",
        "def log_s_tri(x):\n",
        "    ''' Tri Gaussian prior '''\n",
        "    exp1 = (1/s1)*np.exp(-(x-mu1)**2/(2*s1**2))\n",
        "    exp2 = (1/s2)*np.exp(-(x-mu2)**2/(2*s2**2))\n",
        "    exp3 = (1/s3)*np.exp(-(x-mu3)**2/(2*s3**2))\n",
        "    norma1 = (x-mu1)/s1\n",
        "    norma2 = (x-mu2)/s2\n",
        "    norma3 = (x-mu3)/s3\n",
        "    result = (norma1*exp1 + norma2*exp2 + norma3*exp3)/max(0.00001,exp1 + exp2 + exp3)\n",
        "    return(result) \n",
        "\n",
        "s_uni, mu_uni = 0.2, 0.5\n",
        "def log_s_uni(x): #Not finished implemented\n",
        "    exp_uni = (1/s_uni)*np.exp(-(x-mu_uni)**2/(2*s_uni**2))\n",
        "    norma_uni = (x-mu_uni)/s_uni\n",
        "    norma2 = (x-mu2)/s2\n",
        "    result = (norma1*exp1 + norma2*exp2)/max(0.00001,exp1 + exp2)\n",
        "    return(result)\n",
        "    \n",
        "\n",
        "## Return the values needed for weight updates\n",
        "\n",
        "\n",
        "def loop(y_v, w_vh, b_v, b_h, eta, N, log_s):\n",
        "    ''' Return ^y_v, ^y_h, y_v and y_h for update '''\n",
        "    y_h = output_h(w_vh, b_h, y_v)\n",
        "    first_y_h = y_h.copy()\n",
        "    for i in range(5):\n",
        "        y_v = output_v(w_vh, b_v, y_h)\n",
        "        if i == 0:\n",
        "            first_y_v = y_v.copy()\n",
        "        y_h = output_h(w_vh, b_h, y_v)\n",
        "    return(first_y_h, first_y_v, y_v, y_h)\n",
        "\n",
        "def loop_hh(y_v, w_vh, w_hh, b_v, b_h, b_hh, eta, N, log_s):\n",
        "    ''' Return ^y_v, ^y_h, y_v and y_h for update, for double hidden layers network'''\n",
        "    y_h = output_h(w_vh, b_h, y_v)\n",
        "    first_y_h = y_h.copy()\n",
        "    y_hh = output_h_hh(w_hh, b_hh, y_h)\n",
        "    first_y_hh = y_hh.copy()\n",
        "    y_h = output_hh_h(w_hh, b_h, y_hh)\n",
        "    for i in range(5):\n",
        "        y_v = output_v(w_vh, b_v, y_h)\n",
        "        if i == 0:\n",
        "            first_y_v = y_v.copy()\n",
        "        y_h = output_h(w_vh, b_h, y_v)\n",
        "        y_hh = output_h_hh(w_hh, b_hh, y_h)\n",
        "        y_h = output_hh_h(w_hh, b_h, y_hh)\n",
        "    return(first_y_h, first_y_hh, first_y_v, y_v, y_h, y_hh)\n",
        "\n",
        "\n",
        "## Update weights\n",
        "\n",
        "\n",
        "def update(w_vh, b_v, b_h, x, z, xh, zh, eta, N, log_s):\n",
        "    ''' Update the weights and biases '''\n",
        "    for iv in range(n_v):\n",
        "        for jh in range(n_h):\n",
        "              w_vh[iv,jh] += eta*(log_s(w_vh[iv,jh]) + N*(z[jh]*x[iv] - zh[jh]*xh[iv])) #+ np.sqrt(2*eta)*np.random.normal()\n",
        "    for iv in range(n_v):\n",
        "        b_v[iv] += eta*N*(x[iv] - xh[iv])# + np.sqrt(2*eta)*np.random.normal()\n",
        "    for jh in range(n_h):\n",
        "        b_h[jh] += eta*N*(z[jh] - zh[jh]) #+ np.sqrt(2*eta)*np.random.normal()\n",
        "    return(w_vh, b_v, b_h)  \n",
        "\n",
        "\n",
        "def update_hh(w_vh, w_hh, b_v, b_h, b_hh, x, z, zz, xh, zh, zzh, eta, N, log_s):\n",
        "    ''' Update the weights and biases for a double hidden layers network'''\n",
        "    for iv in range(n_v):\n",
        "        for jh in range(n_h):\n",
        "              w_vh[iv,jh] += eta*(log_s(w_vh[iv,jh]) + N*(z[jh]*x[iv] - zh[jh]*xh[iv])) + np.sqrt(2*eta)*np.random.normal()\n",
        "    for ih in range(n_h):\n",
        "        for jhh in range(n_hh):\n",
        "              w_hh[ih,jhh] += eta*(log_s(w_hh[ih,jhh]) + N*(zz[jhh]*z[ih] - zzh[jhh]*z[ih])) + np.sqrt(2*eta)*np.random.normal()\n",
        "    for iv in range(n_v):\n",
        "        b_v[iv] += eta*N*(x[iv] - xh[iv]) + np.sqrt(2*eta)*np.random.normal()\n",
        "    for jh in range(n_h):\n",
        "        b_h[jh] += eta*N*(z[jh] - zh[jh]) + np.sqrt(2*eta)*np.random.normal()\n",
        "    for jhh in range(n_hh):\n",
        "        b_hh[jhh] += eta*N*(zz[jhh] - zzh[jhh]) + np.sqrt(2*eta)*np.random.normal()\n",
        "    return(w_vh, w_hh, b_v, b_h, b_hh)  \n",
        "\n",
        "\n",
        "## Training function for one image\n",
        "\n",
        "\n",
        "# For audio inputs\n",
        "def new_y(image):\n",
        "    y = []\n",
        "    for pix in image.flatten():\n",
        "        if 0.87 < pix:\n",
        "            res = 1\n",
        "        else:\n",
        "            res = 0\n",
        "        y.append(res)\n",
        "    return(np.array(y))\n",
        "\n",
        "# For visual images inputs (normal)\n",
        "def new_y(image):\n",
        "    y = []\n",
        "    for pix in image.flatten():\n",
        "        r = random.random()\n",
        "        if r < pix:\n",
        "            res = 1\n",
        "        else:\n",
        "            res = 0\n",
        "        y.append(res)\n",
        "    return(np.array(y))\n",
        "\n",
        "def train(image, w_vh, b_v, b_h, eta, N, log_s):\n",
        "    ''' Full training loop for one image '''\n",
        "    y_v = new_y(image)\n",
        "    input_y_v = y_v.copy()\n",
        "\n",
        "    y_h, first_y_v, yh_v, yh_h = loop(y_v, w_vh, b_v, b_h, eta, N, log_s)\n",
        "\n",
        "    w_vh, b_v, b_h = update(w_vh, b_v, b_h, y_v, y_h, yh_v, yh_h, eta, N, log_s)\n",
        "\n",
        "    error = np.mean(abs(input_y_v - first_y_v))\n",
        "    \n",
        "    return(w_vh, b_v, b_h, error)\n",
        "\n",
        "def train_hh(image, w_vh, w_hh, b_v, b_h, b_hh, eta, N, log_s):\n",
        "    ''' Full training loop for one image (double hidden network)'''\n",
        "    y_v = new_y(image)\n",
        "    input_y_v = y_v.copy()\n",
        "    \n",
        "    y_h, y_hh, first_y_v, yh_v, yh_h, yh_hh = loop_hh(y_v, w_vh, w_hh, b_v, b_h, b_hh, eta, N, log_s)\n",
        "\n",
        "    w_vh, w_hh, b_v, b_h, b_hh = update_hh(w_vh, w_hh, b_v, b_h, b_hh, y_v, y_h, y_hh, yh_v, yh_h, yh_hh, eta, N, log_s)\n",
        "\n",
        "    error = np.mean(abs(input_y_v - first_y_v))\n",
        "    \n",
        "    return(w_vh, w_hh, b_v, b_h, b_hh, error)\n",
        "\n",
        "\n",
        "## Reconstruction of an image for train and test losses\n",
        "\n",
        "\n",
        "def reconstruct(img, w_vh, b_h, b_v):\n",
        "    ''' Reconstruct an image after one passage through the hidden layer '''\n",
        "    y_v = new_y(img)\n",
        "    y_h = output_h(w_vh, b_h, y_v)\n",
        "    y_v = output_v(w_vh, b_v, y_h)\n",
        "    return(y_v)#.reshape((28,28))\n",
        "\n",
        "def reconstruct_hh(img, w_vh, w_hh, b_h, b_v, b_hh):\n",
        "    ''' Reconstruct an image after one passage through the hidden layer (double hidden network)'''\n",
        "    y_v = new_y(img)\n",
        "    y_h = output_h(w_vh, b_h, y_v)\n",
        "    y_hh = output_h_hh(w_hh, b_hh, y_h)\n",
        "    y_h = output_hh_h(w_hh, b_h, y_hh)\n",
        "    y_v = output_v(w_vh, b_v, y_h)\n",
        "    return(y_v)#.reshape((28,28)\n",
        "\n",
        "def criterion(inpu, outpu):\n",
        "    return(np.mean(abs(inpu.flatten()-outpu.flatten())))\n",
        "\n",
        "def test_loss(w_vh, b_h, b_v, x_testi):\n",
        "    ''' Calculate a full test loss '''\n",
        "    total_loss = 0\n",
        "    for i in range(x_testi.shape[0]):\n",
        "        input_i = x_testi[i]\n",
        "        output_i = reconstruct(input_i, w_vh, b_h, b_v)\n",
        "        total_loss += criterion(input_i, output_i)\n",
        "    return(total_loss/x_testi.shape[0])\n",
        "\n",
        "def test_loss_hh(w_vh, w_hh, b_h, b_v, b_hh, x_testi):\n",
        "    ''' Calculate a full test loss (double hidden layer)'''\n",
        "    total_loss = 0\n",
        "    for i in range(x_testi.shape[0]):\n",
        "        input_i = x_testi[i]\n",
        "        output_i = reconstruct_hh(input_i, w_vh, w_hh, b_h, b_v, b_hh)\n",
        "        total_loss += criterion(input_i, output_i)\n",
        "    return(total_loss/x_testi.shape[0])"
      ],
      "execution_count": 0,
      "outputs": []
    },
    {
      "cell_type": "markdown",
      "metadata": {
        "id": "8OwzD6xRQfcP",
        "colab_type": "text"
      },
      "source": [
        "# Parameter initialisation (for different inputs/networks)\n",
        "\n",
        "Generally already done in the experiences cells."
      ]
    },
    {
      "cell_type": "code",
      "metadata": {
        "id": "fK11qjKZuXat",
        "colab_type": "code",
        "colab": {}
      },
      "source": [
        "# Initialisation WAV files\n",
        "\n",
        "#wav_700\n",
        "n_v = 616 #784\n",
        "n_h = 15 #9\n",
        "b_v = np.zeros((n_v))\n",
        "b_h = np.zeros((n_h))\n",
        "w_vh = np.zeros((n_v,n_h))\n",
        "for iv in range(n_v):\n",
        "    for jh in range(n_h):\n",
        "        w_vh[iv,jh] = np.random.normal(0,0.25)\n",
        "for iv in range(n_v):\n",
        "        b_v[iv] = np.random.normal(-1,0.25)\n",
        "for jh in range(n_h):\n",
        "        b_h[jh] = np.random.normal(-1,0.25)"
      ],
      "execution_count": 0,
      "outputs": []
    },
    {
      "cell_type": "code",
      "metadata": {
        "id": "4uaWd3a4GnBT",
        "colab_type": "code",
        "colab": {}
      },
      "source": [
        "# Initialisation Normal image - double hidden\n",
        "\n",
        "n_v = 28*28 #784\n",
        "n_h = 9 #9\n",
        "n_hh = 9 #9\n",
        "b_v = np.zeros((n_v))\n",
        "b_h = np.zeros((n_h))\n",
        "b_hh = np.zeros((n_hh))\n",
        "w_vh = np.zeros((n_v,n_h))\n",
        "w_hh = np.zeros((n_h,n_hh))\n",
        "for iv in range(n_v):\n",
        "    for jh in range(n_h):\n",
        "        w_vh[iv,jh] = np.random.normal(0,0.25)\n",
        "for ih in range(n_h):\n",
        "    for jhh in range(n_hh):\n",
        "        w_hh[ih,jhh] = np.random.normal(0,0.25)\n",
        "for iv in range(n_v):\n",
        "        b_v[iv] = np.random.normal(-1,0.25)\n",
        "for jh in range(n_h):\n",
        "        b_h[jh] = np.random.normal(-1,0.25)\n",
        "for jhh in range(n_hh):\n",
        "        b_hh[jhh] = np.random.normal(-1,0.25)"
      ],
      "execution_count": 0,
      "outputs": []
    },
    {
      "cell_type": "code",
      "metadata": {
        "id": "9W64DRlLgpyv",
        "colab_type": "code",
        "colab": {}
      },
      "source": [
        "# Initialisation Normal image\n",
        "\n",
        "n_v = 28*28 #784\n",
        "n_h = 100 #9\n",
        "b_v = np.zeros((n_v))\n",
        "b_h = np.zeros((n_h))\n",
        "w_vh = np.zeros((n_v,n_h))\n",
        "for iv in range(n_v):\n",
        "    for jh in range(n_h):\n",
        "        w_vh[iv,jh] = np.random.normal(0,0.25)\n",
        "for iv in range(n_v):\n",
        "        b_v[iv] = np.random.normal(-1,0.25)\n",
        "for jh in range(n_h):\n",
        "        b_h[jh] = np.random.normal(-1,0.25)"
      ],
      "execution_count": 0,
      "outputs": []
    },
    {
      "cell_type": "markdown",
      "metadata": {
        "id": "ahACezuYWh6R",
        "colab_type": "text"
      },
      "source": [
        "# Experiences with training loops.\n",
        "\n",
        "Run the cell wanted for a given experience.\n",
        "\n",
        "Normal full training loop"
      ]
    },
    {
      "cell_type": "code",
      "metadata": {
        "id": "92QuW0TyioRX",
        "colab_type": "code",
        "colab": {}
      },
      "source": [
        "index_train = 1\n",
        "len_training = int(0.5*x_train_i[index_train].shape[0]) # You can limit the size of the training\n",
        "\n",
        "n_v = 28*28  #784\n",
        "n_h = 9    #9\n",
        "b_v = np.zeros((n_v))\n",
        "b_h = np.zeros((n_h))\n",
        "w_vh = np.zeros((n_v,n_h))\n",
        "for iv in range(n_v):\n",
        "    for jh in range(n_h):\n",
        "        w_vh[iv,jh] = np.random.normal(0,0.25)\n",
        "for iv in range(n_v):\n",
        "        b_v[iv] = np.random.normal(-1,0.25)\n",
        "for jh in range(n_h):\n",
        "        b_h[jh] = np.random.normal(-1,0.25)\n",
        "\n",
        "full_error = []\n",
        "test_loss_list = []\n",
        "for i in tqdm.tqdm(range(len_training)): \n",
        "    x = x_train_i[index_train][i]\n",
        "    w_vh, b_v, b_h, error = train(x, w_vh, b_v, b_h, eta, N, log_s_bi)\n",
        "    full_error.append(error)\n",
        "\n",
        "plt.plot(full_error)"
      ],
      "execution_count": 0,
      "outputs": []
    },
    {
      "cell_type": "markdown",
      "metadata": {
        "id": "ssUbKkesKSzj",
        "colab_type": "text"
      },
      "source": [
        "Full training loop with viusalisations included (arrays)"
      ]
    },
    {
      "cell_type": "code",
      "metadata": {
        "id": "KatEdQ_Ruk8H",
        "colab_type": "code",
        "outputId": "32d685ba-562d-42b3-dfba-763ccb55556d",
        "colab": {
          "base_uri": "https://localhost:8080/",
          "height": 334,
          "referenced_widgets": [
            "b518ac027222427aa69fde1c116052be",
            "f6d84cb681ad40208a0829b6570466ea",
            "86681eacf2674a6ca1f44d232730bb84",
            "5a7b16e7981c40bf9dbaa5f6f70faf55",
            "d5b9ec2f1c184747ba0073b2755130e4",
            "c2261ae8d7b24ca2ab9f3702852b9ac5",
            "2e075abee474408ab55ea93c93cb1253",
            "24407ba8317d4d5daebdf80732476575"
          ]
        }
      },
      "source": [
        "index_train = 1\n",
        "len_training = int(0.5*x_train_i[index_train].shape[0]) # You can limit the size of the training\n",
        "\n",
        "n_v = 28*28 #784\n",
        "n_h = 9     #9\n",
        "b_v = np.zeros((n_v))\n",
        "b_h = np.zeros((n_h))\n",
        "w_vh = np.zeros((n_v,n_h))\n",
        "for iv in range(n_v):\n",
        "    for jh in range(n_h):\n",
        "        w_vh[iv,jh] = np.random.normal(0,0.25)\n",
        "for iv in range(n_v):\n",
        "        b_v[iv] = np.random.normal(-1,0.25)\n",
        "for jh in range(n_h):\n",
        "        b_h[jh] = np.random.normal(-1,0.25)\n",
        "\n",
        "w_vh00 = []\n",
        "w_vh2010 = []\n",
        "w_vh1414 = []\n",
        "b_v00 = []\n",
        "b_v2010 = []\n",
        "b_v1414 = []\n",
        "b_h_list = []\n",
        "b_v_m03 = []\n",
        "b_v_m05 = []\n",
        "b_v_m07 = []\n",
        "b_v_m1 = []\n",
        "\n",
        "\n",
        "full_error = []\n",
        "test_loss_list = []\n",
        "for i in tqdm.notebook.tqdm(range(len_training)):\n",
        "    x = x_train_i[index_train][i]\n",
        "    w_vh, b_v, b_h, error = train(x, w_vh, b_v, b_h, eta, N, log_s_bi)\n",
        "    w_vh00.append(np.copy(w_vh[0]))\n",
        "    w_vh2010.append(np.copy(w_vh[20*28+10]))\n",
        "    w_vh1414.append(np.copy(w_vh[14*28+14]))\n",
        "    b_v00.append(np.copy(b_v[0]))\n",
        "    b_v2010.append(np.copy(b_v[20*28+10]))\n",
        "    b_v1414.append(np.copy(b_v[14*28+14]))\n",
        "    b_v_m03.append(sum(b_v > -0.3))\n",
        "    b_v_m05.append(sum(b_v > -0.5))\n",
        "    b_v_m07.append(sum(b_v > -0.7))\n",
        "    b_v_m1.append(sum(b_v > -1))\n",
        "    b_h_list.append(np.copy(b_h))\n",
        "    full_error.append(error)\n",
        "    if i%500 == 0 and i != 0:\n",
        "        test_loss_list.append(test_loss(w_vh, b_h, b_v, x_test_i[index_train]))\n",
        "\n",
        "plt.plot(full_error)"
      ],
      "execution_count": 0,
      "outputs": [
        {
          "output_type": "display_data",
          "data": {
            "application/vnd.jupyter.widget-view+json": {
              "model_id": "b518ac027222427aa69fde1c116052be",
              "version_minor": 0,
              "version_major": 2
            },
            "text/plain": [
              "HBox(children=(FloatProgress(value=0.0, max=2696.0), HTML(value='')))"
            ]
          },
          "metadata": {
            "tags": []
          }
        },
        {
          "output_type": "stream",
          "text": [
            "\n"
          ],
          "name": "stdout"
        },
        {
          "output_type": "execute_result",
          "data": {
            "text/plain": [
              "[<matplotlib.lines.Line2D at 0x7f340331c518>]"
            ]
          },
          "metadata": {
            "tags": []
          },
          "execution_count": 13
        },
        {
          "output_type": "display_data",
          "data": {
            "image/png": "[encoded data removed]",
            "text/plain": [
              "<Figure size 432x288 with 1 Axes>"
            ]
          },
          "metadata": {
            "tags": [],
            "needs_background": "light"
          }
        }
      ]
    },
    {
      "cell_type": "markdown",
      "metadata": {
        "id": "E6rUZYBkKAn3",
        "colab_type": "text"
      },
      "source": [
        "Training experience for dataset of 1, 2 and then 1 again."
      ]
    },
    {
      "cell_type": "code",
      "metadata": {
        "id": "xUqkW68AKxsA",
        "colab_type": "code",
        "colab": {}
      },
      "source": [
        "n_v = 28*28 #784\n",
        "n_h = 9 #9\n",
        "b_v = np.zeros((n_v))\n",
        "b_h = np.zeros((n_h))\n",
        "w_vh = np.zeros((n_v,n_h))\n",
        "for iv in range(n_v):\n",
        "    for jh in range(n_h):\n",
        "        w_vh[iv,jh] = np.random.normal(0,0.25)\n",
        "for iv in range(n_v):\n",
        "        b_v[iv] = np.random.normal(-1,0.25)\n",
        "for jh in range(n_h):\n",
        "        b_h[jh] = np.random.normal(-1,0.25)\n",
        "\n",
        "w_vh00 = []\n",
        "w_vh2010 = []\n",
        "w_vh1414 = []\n",
        "b_v00 = []\n",
        "b_v2010 = []\n",
        "b_v1414 = []\n",
        "b_h_list = []\n",
        "b_v_m03 = []\n",
        "b_v_m05 = []\n",
        "b_v_m07 = []\n",
        "b_v_m1 = []\n",
        "\n",
        "full_error = []\n",
        "test_loss_list = []\n",
        "for i in tqdm.tqdm(range(x_train_i[1].shape[0])):\n",
        "    x = x_train_i[1][i]\n",
        "    w_vh, b_v, b_h, error = train(x, w_vh, b_v, b_h, eta, N, log_s_bi) #uniform\n",
        "    w_vh00.append(np.copy(w_vh[0]))\n",
        "    w_vh2010.append(np.copy(w_vh[20*28+10]))\n",
        "    w_vh1414.append(np.copy(w_vh[14*28+14]))\n",
        "    b_v00.append(np.copy(b_v[0]))\n",
        "    b_v2010.append(np.copy(b_v[20*28+10]))\n",
        "    b_v1414.append(np.copy(b_v[14*28+14]))\n",
        "    b_v_m03.append(sum(b_v > -0.3))\n",
        "    b_v_m05.append(sum(b_v > -0.5))\n",
        "    b_v_m07.append(sum(b_v > -0.7))\n",
        "    b_v_m1.append(sum(b_v > -1))\n",
        "    b_h_list.append(np.copy(b_h))\n",
        "    full_error.append(error)\n",
        "    if i%500 == 0 and i != 0:\n",
        "        test_loss_list.append(test_loss(w_vh, b_h, b_v, x_test_i[1]))\n",
        "        \n",
        "for i in tqdm.tqdm(range(x_train_i[2].shape[0])):\n",
        "    x = x_train_i[2][i]\n",
        "    w_vh, b_v, b_h, error = train(x, w_vh, b_v, b_h, eta, N, log_s_bi) #uniform\n",
        "    w_vh00.append(np.copy(w_vh[0]))\n",
        "    w_vh2010.append(np.copy(w_vh[20*28+10]))\n",
        "    w_vh1414.append(np.copy(w_vh[14*28+14]))\n",
        "    b_v00.append(np.copy(b_v[0]))\n",
        "    b_v2010.append(np.copy(b_v[20*28+10]))\n",
        "    b_v1414.append(np.copy(b_v[14*28+14]))\n",
        "    b_v_m03.append(sum(b_v > -0.3))\n",
        "    b_v_m05.append(sum(b_v > -0.5))\n",
        "    b_v_m07.append(sum(b_v > -0.7))\n",
        "    b_v_m1.append(sum(b_v > -1))\n",
        "    b_h_list.append(np.copy(b_h))\n",
        "    full_error.append(error)\n",
        "    if i%500 == 0 and i != 0:\n",
        "        test_loss_list.append(test_loss(w_vh, b_h, b_v, x_test_i[2]))\n",
        "\n",
        "for i in tqdm.tqdm(range(x_train_i[1].shape[0])):\n",
        "    x = x_train_i[1][i]\n",
        "    w_vh, b_v, b_h, error = train(x, w_vh, b_v, b_h, eta, N, log_s_bi) #uniform\n",
        "    w_vh00.append(np.copy(w_vh[0]))\n",
        "    w_vh2010.append(np.copy(w_vh[20*28+10]))\n",
        "    w_vh1414.append(np.copy(w_vh[14*28+14]))\n",
        "    b_v00.append(np.copy(b_v[0]))\n",
        "    b_v2010.append(np.copy(b_v[20*28+10]))\n",
        "    b_v1414.append(np.copy(b_v[14*28+14]))\n",
        "    b_v_m03.append(sum(b_v > -0.3))\n",
        "    b_v_m05.append(sum(b_v > -0.5))\n",
        "    b_v_m07.append(sum(b_v > -0.7))\n",
        "    b_v_m1.append(sum(b_v > -1))\n",
        "    b_h_list.append(np.copy(b_h))\n",
        "    full_error.append(error)\n",
        "    if i%500 == 0 and i != 0:\n",
        "        test_loss_list.append(test_loss(w_vh, b_h, b_v, x_test_i[1]))\n",
        "\n",
        "plt.plot(full_error)"
      ],
      "execution_count": 0,
      "outputs": []
    },
    {
      "cell_type": "markdown",
      "metadata": {
        "id": "vPb0eImWKLNx",
        "colab_type": "text"
      },
      "source": [
        "\"Lesion\" experience. We reset half of weights and biases two times."
      ]
    },
    {
      "cell_type": "code",
      "metadata": {
        "id": "Pu1VBFYQo5Bv",
        "colab_type": "code",
        "colab": {}
      },
      "source": [
        "n_v = 28*28 #784\n",
        "n_h = 9 #9\n",
        "b_v = np.zeros((n_v))\n",
        "b_h = np.zeros((n_h))\n",
        "w_vh = np.zeros((n_v,n_h))\n",
        "for iv in range(n_v):\n",
        "    for jh in range(n_h):\n",
        "        w_vh[iv,jh] = np.random.normal(0,0.25)\n",
        "for iv in range(n_v):\n",
        "        b_v[iv] = np.random.normal(-1,0.25)\n",
        "for jh in range(n_h):\n",
        "        b_h[jh] = np.random.normal(-1,0.25)\n",
        "\n",
        "half_nv = int(n_v/2)\n",
        "half_nh = int(n_h/2)\n",
        "\n",
        "w_vh00 = []\n",
        "w_vh2010 = []\n",
        "w_vh1414 = []\n",
        "b_v00 = []\n",
        "b_v2010 = []\n",
        "b_v1414 = []\n",
        "b_h_list = []\n",
        "b_v_m03 = []\n",
        "b_v_m05 = []\n",
        "b_v_m07 = []\n",
        "b_v_m1 = []\n",
        "\n",
        "full_error = []\n",
        "test_loss_list = []\n",
        "for i in tqdm.tqdm(range(x_train_i[1].shape[0])):\n",
        "    x = x_train_i[1][i]\n",
        "    w_vh, b_v, b_h, error = train(x, w_vh, b_v, b_h, eta, N, log_s_uniform) #uniform\n",
        "    w_vh00.append(np.copy(w_vh[0]))\n",
        "    w_vh2010.append(np.copy(w_vh[20*28+10]))\n",
        "    w_vh1414.append(np.copy(w_vh[14*28+14]))\n",
        "    b_v00.append(np.copy(b_v[0]))\n",
        "    b_v2010.append(np.copy(b_v[20*28+10]))\n",
        "    b_v1414.append(np.copy(b_v[14*28+14]))\n",
        "    b_v_m03.append(sum(b_v > -0.3))\n",
        "    b_v_m05.append(sum(b_v > -0.5))\n",
        "    b_v_m07.append(sum(b_v > -0.7))\n",
        "    b_v_m1.append(sum(b_v > -1))\n",
        "    b_h_list.append(np.copy(b_h))\n",
        "    full_error.append(error)\n",
        "    if i%500 == 0 and i != 0:\n",
        "        test_loss_list.append(test_loss(w_vh, b_h, b_v, x_test_i[1]))\n",
        "    if i%2000 == 0 and i != 0:\n",
        "        # Lésion\n",
        "        listv, listh = list(range(n_v)), list(range(n_h))\n",
        "        random.shuffle(listv)\n",
        "        random.shuffle(listh)\n",
        "        for iv in listv[:half_nv]:\n",
        "            for jh in listh[:half_nh]:\n",
        "                w_vh[iv,jh] = np.random.normal(0,0.25)\n",
        "        listv, listh = list(range(n_v)), list(range(n_h))\n",
        "        random.shuffle(listv)\n",
        "        random.shuffle(listh)\n",
        "        for iv in listv[:half_nv]:\n",
        "                b_v[iv] = np.random.normal(-1,0.25)\n",
        "        for jh in listh[:half_nh]:\n",
        "                b_h[jh] = np.random.normal(-1,0.25)\n",
        "                \n",
        "        test_loss_list.append(test_loss(w_vh, b_h, b_v, x_test_i[1]))\n",
        "\n",
        "plt.plot(full_error)"
      ],
      "execution_count": 0,
      "outputs": []
    },
    {
      "cell_type": "markdown",
      "metadata": {
        "id": "xRChpUWOKhx2",
        "colab_type": "text"
      },
      "source": [
        "Double hidden layers network experience"
      ]
    },
    {
      "cell_type": "code",
      "metadata": {
        "id": "oM8shoVqaUO3",
        "colab_type": "code",
        "colab": {}
      },
      "source": [
        "n_v = 28*28 #784\n",
        "n_h = 9 #9\n",
        "n_hh = 5 #9\n",
        "b_v = np.zeros((n_v))\n",
        "b_h = np.zeros((n_h))\n",
        "b_hh = np.zeros((n_hh))\n",
        "w_vh = np.zeros((n_v,n_h))\n",
        "w_hh = np.zeros((n_h,n_hh))\n",
        "for iv in range(n_v):\n",
        "    for jh in range(n_h):\n",
        "        w_vh[iv,jh] = np.random.normal(0,0.25)\n",
        "for ih in range(n_h):\n",
        "    for jhh in range(n_hh):\n",
        "        w_hh[ih,jhh] = np.random.normal(0,0.25)\n",
        "for iv in range(n_v):\n",
        "        b_v[iv] = np.random.normal(-1,0.25)\n",
        "for jh in range(n_h):\n",
        "        b_h[jh] = np.random.normal(-1,0.25)\n",
        "for jhh in range(n_hh):\n",
        "        b_hh[jhh] = np.random.normal(-1,0.25)\n",
        "\n",
        "w_vh00 = []\n",
        "w_vh2010 = []\n",
        "w_vh1414 = []\n",
        "b_v00 = []\n",
        "b_v2010 = []\n",
        "b_v1414 = []\n",
        "b_h_list = []\n",
        "b_v_m03 = []\n",
        "b_v_m05 = []\n",
        "b_v_m07 = []\n",
        "b_v_m1 = []\n",
        "b_hh_list = []\n",
        "\n",
        "full_error = []\n",
        "test_loss_list = []\n",
        "for i in tqdm.tqdm(range(x_train_i[1].shape[0])):\n",
        "    x = x_train_i[1][i]\n",
        "    w_vh, w_hh, b_v, b_h, b_hh, error = train_hh(x, w_vh, w_hh, b_v, b_h, b_hh, eta, N, log_s_bi)\n",
        "    w_vh00.append(np.copy(w_vh[0]))\n",
        "    w_vh2010.append(np.copy(w_vh[20*28+10]))\n",
        "    w_vh1414.append(np.copy(w_vh[14*28+14]))\n",
        "    b_v00.append(np.copy(b_v[0]))\n",
        "    b_v2010.append(np.copy(b_v[20*28+10]))\n",
        "    b_v1414.append(np.copy(b_v[14*28+14]))\n",
        "    b_v_m03.append(sum(b_v > -0.3))\n",
        "    b_v_m05.append(sum(b_v > -0.5))\n",
        "    b_v_m07.append(sum(b_v > -0.7))\n",
        "    b_v_m1.append(sum(b_v > -1))\n",
        "    b_h_list.append(np.copy(b_h))\n",
        "    b_hh_list.append(np.copy(b_hh))\n",
        "    full_error.append(error)\n",
        "    if i%500 == 0 and i != 0:\n",
        "        test_loss_list.append(test_loss_hh(w_vh, w_hh, b_h, b_v, b_hh, x_test_i[1]))\n",
        "\n",
        "plt.plot(full_error)"
      ],
      "execution_count": 0,
      "outputs": []
    },
    {
      "cell_type": "markdown",
      "metadata": {
        "id": "2iwXxaRKKqWB",
        "colab_type": "text"
      },
      "source": [
        "MFCC Audio training experience"
      ]
    },
    {
      "cell_type": "code",
      "metadata": {
        "id": "6braf48qBasU",
        "colab_type": "code",
        "colab": {}
      },
      "source": [
        "n_v = 608 \n",
        "n_h = 9\n",
        "b_v = np.zeros((n_v))\n",
        "b_h = np.zeros((n_h))\n",
        "w_vh = np.zeros((n_v,n_h))\n",
        "for iv in range(n_v):\n",
        "    for jh in range(n_h):\n",
        "        w_vh[iv,jh] = np.random.normal(0,0.25)\n",
        "for iv in range(n_v):\n",
        "        b_v[iv] = np.random.normal(-1,0.25)\n",
        "for jh in range(n_h):\n",
        "        b_h[jh] = np.random.normal(-1,0.25)\n",
        "\n",
        "w_vh00 = []\n",
        "w_vh2010 = []\n",
        "w_vh1414 = []\n",
        "b_v00 = []\n",
        "b_v2010 = []\n",
        "b_v1414 = []\n",
        "b_h_list = []\n",
        "b_v_m03 = []\n",
        "b_v_m05 = []\n",
        "b_v_m07 = []\n",
        "b_v_m1 = []\n",
        "\n",
        "full_error = []\n",
        "test_loss_list = []\n",
        "for k in range(5):\n",
        "    for i in tqdm.tqdm(range(train_feats_1_cropped.shape[0])):\n",
        "        x = train_feats_1_cropped[i]\n",
        "        w_vh, b_v, b_h, error = train(x, w_vh, b_v, b_h, eta, N, log_s_bi) #uniform\n",
        "        w_vh00.append(np.copy(w_vh[0]))\n",
        "        w_vh2010.append(np.copy(w_vh[20*28+10]))\n",
        "        w_vh1414.append(np.copy(w_vh[14*28+14]))\n",
        "        b_v00.append(np.copy(b_v[0]))\n",
        "        b_v2010.append(np.copy(b_v[20*28+10]))\n",
        "        b_v1414.append(np.copy(b_v[14*28+14]))\n",
        "        b_v_m03.append(sum(b_v > -0.3))\n",
        "        b_v_m05.append(sum(b_v > -0.5))\n",
        "        b_v_m07.append(sum(b_v > -0.7))\n",
        "        b_v_m1.append(sum(b_v > -1))\n",
        "        b_h_list.append(np.copy(b_h))\n",
        "        full_error.append(error)\n",
        "        if i==0 or i==95 or i==189:\n",
        "            test_loss_list.append(test_loss(w_vh, b_h, b_v, test_feats_1_cropped))\n",
        "\n",
        "plt.plot(full_error)"
      ],
      "execution_count": 0,
      "outputs": []
    },
    {
      "cell_type": "markdown",
      "metadata": {
        "id": "GH7DYjqBPu5y",
        "colab_type": "text"
      },
      "source": [
        "## Results visualisations\n",
        "\n",
        "Training error"
      ]
    },
    {
      "cell_type": "code",
      "metadata": {
        "id": "IN_PMR2u6wlZ",
        "colab_type": "code",
        "outputId": "8f809a2f-585e-4b6f-88ad-78e6751c794c",
        "colab": {
          "base_uri": "https://localhost:8080/",
          "height": 267
        }
      },
      "source": [
        "plt.plot(full_error)\n",
        "plt.show()"
      ],
      "execution_count": 0,
      "outputs": [
        {
          "output_type": "display_data",
          "data": {
            "image/png": "[encoded data removed]",
            "text/plain": [
              "<Figure size 432x288 with 1 Axes>"
            ]
          },
          "metadata": {
            "tags": [],
            "needs_background": "light"
          }
        }
      ]
    },
    {
      "cell_type": "markdown",
      "metadata": {
        "id": "INpq97umGDZT",
        "colab_type": "text"
      },
      "source": [
        "Test error"
      ]
    },
    {
      "cell_type": "code",
      "metadata": {
        "id": "K-Lwm3K_29UI",
        "colab_type": "code",
        "outputId": "c1a9aebf-87d2-4cd3-8734-6cd3fb9b49d1",
        "colab": {
          "base_uri": "https://localhost:8080/",
          "height": 265
        }
      },
      "source": [
        "plt.plot(test_loss_list)\n",
        "plt.show()"
      ],
      "execution_count": 0,
      "outputs": [
        {
          "output_type": "display_data",
          "data": {
            "image/png": "[encoded data removed]",
            "text/plain": [
              "<Figure size 432x288 with 1 Axes>"
            ]
          },
          "metadata": {
            "tags": [],
            "needs_background": "light"
          }
        }
      ]
    },
    {
      "cell_type": "markdown",
      "metadata": {
        "id": "lQyojqsdGQzr",
        "colab_type": "text"
      },
      "source": [
        "Number of bias values over -0.7 and -1"
      ]
    },
    {
      "cell_type": "code",
      "metadata": {
        "id": "_z0kXTK52ZuP",
        "colab_type": "code",
        "outputId": "c4d3507e-4522-41a5-df76-c1211e26a271",
        "colab": {
          "base_uri": "https://localhost:8080/",
          "height": 265
        }
      },
      "source": [
        "plt.plot(b_v_m07)\n",
        "plt.show()"
      ],
      "execution_count": 0,
      "outputs": [
        {
          "output_type": "display_data",
          "data": {
            "image/png": "[encoded data removed]",
            "text/plain": [
              "<Figure size 432x288 with 1 Axes>"
            ]
          },
          "metadata": {
            "tags": [],
            "needs_background": "light"
          }
        }
      ]
    },
    {
      "cell_type": "code",
      "metadata": {
        "id": "vcK8kvYje6yN",
        "colab_type": "code",
        "outputId": "0e57e93f-5b5c-4160-a327-b18bc9b37dae",
        "colab": {
          "base_uri": "https://localhost:8080/",
          "height": 265
        }
      },
      "source": [
        "plt.plot(b_v_m1)\n",
        "plt.show()"
      ],
      "execution_count": 0,
      "outputs": [
        {
          "output_type": "display_data",
          "data": {
            "image/png": "[encoded data removed]",
            "text/plain": [
              "<Figure size 432x288 with 1 Axes>"
            ]
          },
          "metadata": {
            "tags": [],
            "needs_background": "light"
          }
        }
      ]
    },
    {
      "cell_type": "markdown",
      "metadata": {
        "id": "8m6CQbnTGT8r",
        "colab_type": "text"
      },
      "source": [
        "Evolution of the values of weights at pixel 0,0; 14,14; 20;10"
      ]
    },
    {
      "cell_type": "code",
      "metadata": {
        "id": "CYjbpBpjULyc",
        "colab_type": "code",
        "outputId": "3a700511-edaf-478a-f6e0-e90c78f418d1",
        "colab": {
          "base_uri": "https://localhost:8080/",
          "height": 265
        }
      },
      "source": [
        "plt.plot(w_vh00)\n",
        "plt.show()"
      ],
      "execution_count": 0,
      "outputs": [
        {
          "output_type": "display_data",
          "data": {
            "image/png": "[encoded data removed]",
            "text/plain": [
              "<Figure size 432x288 with 1 Axes>"
            ]
          },
          "metadata": {
            "tags": [],
            "needs_background": "light"
          }
        }
      ]
    },
    {
      "cell_type": "code",
      "metadata": {
        "id": "yLZ9-AGMUPMm",
        "colab_type": "code",
        "outputId": "a45416ca-283c-43f2-d5a3-dc01d10b30dc",
        "colab": {
          "base_uri": "https://localhost:8080/",
          "height": 265
        }
      },
      "source": [
        "plt.plot(w_vh1414)\n",
        "plt.show()"
      ],
      "execution_count": 0,
      "outputs": [
        {
          "output_type": "display_data",
          "data": {
            "image/png": "[encoded data removed]",
            "text/plain": [
              "<Figure size 432x288 with 1 Axes>"
            ]
          },
          "metadata": {
            "tags": [],
            "needs_background": "light"
          }
        }
      ]
    },
    {
      "cell_type": "code",
      "metadata": {
        "id": "tagZsD52SEbB",
        "colab_type": "code",
        "outputId": "3db71d65-7d79-4280-ac37-2aa770fead04",
        "colab": {
          "base_uri": "https://localhost:8080/",
          "height": 265
        }
      },
      "source": [
        "plt.plot(w_vh2010)\n",
        "plt.show()"
      ],
      "execution_count": 0,
      "outputs": [
        {
          "output_type": "display_data",
          "data": {
            "image/png": "[encoded data removed]",
            "text/plain": [
              "<Figure size 432x288 with 1 Axes>"
            ]
          },
          "metadata": {
            "tags": [],
            "needs_background": "light"
          }
        }
      ]
    },
    {
      "cell_type": "markdown",
      "metadata": {
        "id": "kmnDorkJGaTY",
        "colab_type": "text"
      },
      "source": [
        "Evolution of the values of bias at pixel 0,0; 14,14; 20,10, and all hidden bias"
      ]
    },
    {
      "cell_type": "code",
      "metadata": {
        "id": "78nJWkETbbBN",
        "colab_type": "code",
        "outputId": "bd408ca1-a57e-4993-81d0-58fe6a368f39",
        "colab": {
          "base_uri": "https://localhost:8080/",
          "height": 265
        }
      },
      "source": [
        "plt.plot(b_v00)\n",
        "plt.show()"
      ],
      "execution_count": 0,
      "outputs": [
        {
          "output_type": "display_data",
          "data": {
            "image/png": "[encoded data removed]",
            "text/plain": [
              "<Figure size 432x288 with 1 Axes>"
            ]
          },
          "metadata": {
            "tags": [],
            "needs_background": "light"
          }
        }
      ]
    },
    {
      "cell_type": "code",
      "metadata": {
        "id": "U0dbO2kebeF5",
        "colab_type": "code",
        "outputId": "8145e02f-7c60-4452-b7db-8dac6dd19984",
        "colab": {
          "base_uri": "https://localhost:8080/",
          "height": 265
        }
      },
      "source": [
        "plt.plot(b_v1414)\n",
        "plt.show()"
      ],
      "execution_count": 0,
      "outputs": [
        {
          "output_type": "display_data",
          "data": {
            "image/png": "[encoded data removed]",
            "text/plain": [
              "<Figure size 432x288 with 1 Axes>"
            ]
          },
          "metadata": {
            "tags": [],
            "needs_background": "light"
          }
        }
      ]
    },
    {
      "cell_type": "code",
      "metadata": {
        "id": "Uf5JoLlqbeBv",
        "colab_type": "code",
        "outputId": "a6706c09-de38-4efd-848d-e11e20235f3f",
        "colab": {
          "base_uri": "https://localhost:8080/",
          "height": 265
        }
      },
      "source": [
        "plt.plot(b_v2010)\n",
        "plt.show()"
      ],
      "execution_count": 0,
      "outputs": [
        {
          "output_type": "display_data",
          "data": {
            "image/png": "[encoded data removed]",
            "text/plain": [
              "<Figure size 432x288 with 1 Axes>"
            ]
          },
          "metadata": {
            "tags": [],
            "needs_background": "light"
          }
        }
      ]
    },
    {
      "cell_type": "code",
      "metadata": {
        "id": "iTEgo-KPa-YG",
        "colab_type": "code",
        "outputId": "8143c286-1022-4072-e7a1-5ef86a51259e",
        "colab": {
          "base_uri": "https://localhost:8080/",
          "height": 265
        }
      },
      "source": [
        "plt.plot(b_h_list)\n",
        "plt.show()"
      ],
      "execution_count": 0,
      "outputs": [
        {
          "output_type": "display_data",
          "data": {
            "image/png": "[encoded data removed]",
            "text/plain": [
              "<Figure size 432x288 with 1 Axes>"
            ]
          },
          "metadata": {
            "tags": [],
            "needs_background": "light"
          }
        }
      ]
    },
    {
      "cell_type": "markdown",
      "metadata": {
        "id": "YQ-H0wImGs4W",
        "colab_type": "text"
      },
      "source": [
        "Histogram of the visual weights and bias"
      ]
    },
    {
      "cell_type": "code",
      "metadata": {
        "id": "rjy1Q1w53NaF",
        "colab_type": "code",
        "outputId": "0fa8e0ae-4f6f-450d-b908-938eb97f7ae4",
        "colab": {
          "base_uri": "https://localhost:8080/",
          "height": 269
        }
      },
      "source": [
        "plt.hist(w_vh.flatten(), bins=200)\n",
        "plt.show()"
      ],
      "execution_count": 0,
      "outputs": [
        {
          "output_type": "display_data",
          "data": {
            "image/png": "[encoded data removed]",
            "text/plain": [
              "<Figure size 432x288 with 1 Axes>"
            ]
          },
          "metadata": {
            "tags": [],
            "needs_background": "light"
          }
        }
      ]
    },
    {
      "cell_type": "code",
      "metadata": {
        "id": "hDZ9xG_3oCtu",
        "colab_type": "code",
        "outputId": "93693e9f-3344-4390-c862-b9f1b97f3d54",
        "colab": {
          "base_uri": "https://localhost:8080/",
          "height": 265
        }
      },
      "source": [
        "plt.hist(b_v.flatten(), bins=50)\n",
        "plt.show()"
      ],
      "execution_count": 0,
      "outputs": [
        {
          "output_type": "display_data",
          "data": {
            "image/png": "[encoded data removed]",
            "text/plain": [
              "<Figure size 432x288 with 1 Axes>"
            ]
          },
          "metadata": {
            "tags": [],
            "needs_background": "light"
          }
        }
      ]
    },
    {
      "cell_type": "code",
      "metadata": {
        "id": "5FdUh86Fn4zd",
        "colab_type": "code",
        "colab": {}
      },
      "source": [
        " #Double hidden only\n",
        "#plt.hist(w_hh.flatten(), bins=20)\n",
        "#plt.plot(b_hh_list)\n",
        "#plt.hist(b_hh.flatten(), bins=4)"
      ],
      "execution_count": 0,
      "outputs": []
    },
    {
      "cell_type": "markdown",
      "metadata": {
        "id": "anGTcvFlG24M",
        "colab_type": "text"
      },
      "source": [
        "Example reconstruction of test images"
      ]
    },
    {
      "cell_type": "code",
      "metadata": {
        "id": "DcTXfj2G_QHp",
        "colab_type": "code",
        "outputId": "c7069db8-5e14-4c33-a097-3a28f4c892db",
        "colab": {
          "base_uri": "https://localhost:8080/",
          "height": 265
        }
      },
      "source": [
        "image = x_test_i[1][0]\n",
        "y_v = new_y(image)\n",
        "y_h = output_h(w_vh, b_h, y_v)\n",
        "y_v = output_v(w_vh, b_v, y_h)\n",
        "newy = y_v.reshape((28,28))\n",
        "\n",
        "# Original image\n",
        "plt.imshow(image)\n",
        "plt.show()"
      ],
      "execution_count": 0,
      "outputs": [
        {
          "output_type": "display_data",
          "data": {
            "image/png": "[encoded data removed]",
            "text/plain": [
              "<Figure size 432x288 with 1 Axes>"
            ]
          },
          "metadata": {
            "tags": [],
            "needs_background": "light"
          }
        }
      ]
    },
    {
      "cell_type": "code",
      "metadata": {
        "id": "5406Yba7QFVZ",
        "colab_type": "code",
        "outputId": "16243cbb-5ccc-4c09-f7b6-c46e44ea390e",
        "colab": {
          "base_uri": "https://localhost:8080/",
          "height": 265
        }
      },
      "source": [
        "# Binarized input image\n",
        "plt.imshow(new_y(image).reshape((28,28)))\n",
        "plt.show()"
      ],
      "execution_count": 0,
      "outputs": [
        {
          "output_type": "display_data",
          "data": {
            "image/png": "[encoded data removed]",
            "text/plain": [
              "<Figure size 432x288 with 1 Axes>"
            ]
          },
          "metadata": {
            "tags": [],
            "needs_background": "light"
          }
        }
      ]
    },
    {
      "cell_type": "code",
      "metadata": {
        "id": "y3qKAzNk-WEn",
        "colab_type": "code",
        "outputId": "669454a3-0293-4501-d8aa-b981f315a6a7",
        "colab": {
          "base_uri": "https://localhost:8080/",
          "height": 265
        }
      },
      "source": [
        "# Output\n",
        "plt.imshow(newy)\n",
        "plt.show()"
      ],
      "execution_count": 0,
      "outputs": [
        {
          "output_type": "display_data",
          "data": {
            "image/png": "[encoded data removed]",
            "text/plain": [
              "<Figure size 432x288 with 1 Axes>"
            ]
          },
          "metadata": {
            "tags": [],
            "needs_background": "light"
          }
        }
      ]
    }
  ]
}